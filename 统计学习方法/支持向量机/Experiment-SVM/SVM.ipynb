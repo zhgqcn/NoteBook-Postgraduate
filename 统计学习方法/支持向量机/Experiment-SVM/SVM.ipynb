{
 "cells": [
  {
   "cell_type": "markdown",
   "metadata": {},
   "source": [
    "# SVM 实战\n",
    "## 实战一：利用自定义SMO算法训练\n",
    "### 步骤一：导入相应库"
   ]
  },
  {
   "cell_type": "code",
   "execution_count": 76,
   "metadata": {},
   "outputs": [],
   "source": [
    "import pandas as pd\n",
    "import numpy as np\n",
    "from sklearn.model_selection import  train_test_split\n",
    "from sklearn.preprocessing import StandardScaler"
   ]
  },
  {
   "cell_type": "markdown",
   "metadata": {},
   "source": [
    "### 步骤二：数据获取及特征标准化"
   ]
  },
  {
   "cell_type": "code",
   "execution_count": 77,
   "metadata": {},
   "outputs": [],
   "source": [
    "#获取数据\n",
    "dataset = pd.read_csv('./Social_Network_Ads.csv')\n",
    "x = dataset.iloc[:, [2, 3]].values\n",
    "x = x.astype(float)\n",
    "y = dataset.iloc[:, 4].values\n",
    "\n",
    "#将0替换为-1\n",
    "for i in range(len(y)):\n",
    "    if y[i]==0:\n",
    "        y[i]=-1\n",
    "\n",
    "# 数据集划分\n",
    "train_data, test_data, train_label, test_label = train_test_split(x, y, test_size = 0.25, random_state = 61)\n",
    "\n",
    "#特征标准化\n",
    "sc = StandardScaler()\n",
    "train_data = sc.fit_transform(train_data)\n",
    "test_data = sc.transform(test_data)"
   ]
  },
  {
   "cell_type": "markdown",
   "metadata": {},
   "source": [
    "### 步骤三：SMO算法定义\n",
    "- 该算法理解可参考李航《统计学习方法》SMO算法部分\n",
    "- 也可参考博客：https://www.cnblogs.com/zgqcn/p/15092351.html\n",
    "- 代码注释以书本为准"
   ]
  },
  {
   "cell_type": "code",
   "execution_count": 103,
   "metadata": {},
   "outputs": [],
   "source": [
    "class smo:\n",
    "    def __init__(self, max_iter=100, kernel='linear'):\n",
    "        '''\n",
    "        input:max_iter(int):最大训练轮数\n",
    "              kernel(str):核函数，等于'linear'表示线性，等于'poly'表示多项式\n",
    "        '''\n",
    "        self.max_iter = max_iter\n",
    "        self._kernel = kernel\n",
    "         \n",
    "    # 初始化模型\n",
    "    def init_args(self, features, labels):\n",
    "        self.m, self.n = features.shape                  # 特征数据的行列数量\n",
    "        self.X = features                                # 输入数据\n",
    "        self.Y = labels                                  # 标签\n",
    "        self.b = 0.0                                     # 初始化 b\n",
    "                                                         # 将Ei保存在一个列表里\n",
    "        self.alpha = np.ones(self.m)                     # alpha的数量等于训练数据的数量\n",
    "        self.E = [self._E(i) for i in range(self.m)]     # 记录每个训练数据的误差                                           \n",
    "        self.C = 1.0                                     # 错误惩罚参数\n",
    "   \n",
    "    # kkt条件    \n",
    "    # 根据课本(7.111)- (7.113)定义\n",
    "    def _KKT(self, i):\n",
    "        y_g = self._g(i) * self.Y[i]\n",
    "        if self.alpha[i] == 0:\n",
    "            return y_g >= 1\n",
    "        elif 0 < self.alpha[i] < self.C:\n",
    "            return y_g == 1\n",
    "        else:\n",
    "            return y_g <= 1\n",
    "\n",
    "    # g(x)预测值，输入xi\n",
    "    # 根据课本(7.104)定义\n",
    "    def _g(self, i):                                 \n",
    "        r = self.b\n",
    "        for j in range(self.m):\n",
    "            r += self.alpha[j] * self.Y[j] * self.kernel(self.X[i], self.X[j])\n",
    "        return r\n",
    "\n",
    "    # 核函数,多项式添加二次项即可\n",
    "    def kernel(self, x1, x2):\n",
    "        if self._kernel == 'linear':\n",
    "            return sum([x1[k] * x2[k] for k in range(self.n)])\n",
    "        elif self._kernel == 'poly':\n",
    "            return (sum([x1[k] * x2[k] for k in range(self.n)]) + 1)**2    \n",
    "        return 0\n",
    "\n",
    "    # E（x）为g(x)对输入x的预测值和y的差\n",
    "    # 根据课本(7.105)定义\n",
    "    def _E(self, i):\n",
    "        return self._g(i) - self.Y[i]\n",
    "\n",
    "    # 初始alpha，选择2个alpha参数\n",
    "    def _init_alpha(self):\n",
    "        # 外层循环首先遍历所有满足0<a<C的样本点，检验是否满足KKT\n",
    "        index_list = [i for i in range(self.m) if 0 < self.alpha[i] < self.C]\n",
    "        # 否则遍历整个训练集\n",
    "        non_satisfy_list = [i for i in range(self.m) if i not in index_list]\n",
    "        index_list.extend(non_satisfy_list)\n",
    "        for i in index_list:\n",
    "            if self._KKT(i):\n",
    "                continue\n",
    "            E1 = self.E[i]\n",
    "            # 如果E1是正的，选择最小的Ej作为E2；如果E1是负的，选择最大的Ej作为E2\n",
    "            # 参考书本p147\n",
    "            if E1 >= 0:\n",
    "                j = min(range(self.m), key=lambda x: self.E[x])\n",
    "            else:\n",
    "                j = max(range(self.m), key=lambda x: self.E[x])\n",
    "            return i, j\n",
    "\n",
    "    # 根据约束条件裁剪\n",
    "    # 根据课本(7.108)定义\n",
    "    def _compare(self, _alpha, L, H):\n",
    "        if _alpha > H:\n",
    "            return H\n",
    "        elif _alpha < L:\n",
    "            return L\n",
    "        else:\n",
    "            return _alpha\n",
    "\n",
    "    #训练\n",
    "    def fit(self, features, labels):\n",
    "        '''\n",
    "        input:features(ndarray):特征\n",
    "              label(ndarray):标签\n",
    "        '''\n",
    "        self.init_args(features, labels)\n",
    "        for t in range(self.max_iter):\n",
    "            i1, i2 = self._init_alpha()\n",
    "            # 边界，根据课本p145的公式定义\n",
    "            if self.Y[i1] == self.Y[i2]:\n",
    "                L = max(0, self.alpha[i1] + self.alpha[i2] - self.C)\n",
    "                H = min(self.C, self.alpha[i1] + self.alpha[i2])\n",
    "            else:\n",
    "                L = max(0, self.alpha[i2] - self.alpha[i1])\n",
    "                H = min(self.C, self.C + self.alpha[i2] - self.alpha[i1])\n",
    "            E1 = self.E[i1]\n",
    "            E2 = self.E[i2]\n",
    "            # eta = K11 + K22 - 2K12，根据课本(7.107)定义\n",
    "            eta = self.kernel(self.X[i1], self.X[i1]) + self.kernel(self.X[i2], self.X[i2]) - 2 * self.kernel(self.X[i1], self.X[i2])\n",
    "            if eta <= 0:\n",
    "                continue\n",
    "            alpha2_new_unc = self.alpha[i2] + self.Y[i2] * (E2 - E1) / eta  # 根据课本(7.106)定义\n",
    "            alpha2_new = self._compare(alpha2_new_unc, L, H)                # 根据课本(7.108)定义\n",
    "            alpha1_new = self.alpha[i1] + self.Y[i1] * self.Y[i2] * (self.alpha[i2] - alpha2_new) # 根据课本(7.109)定义\n",
    "            b1_new = -E1 - self.Y[i1] * self.kernel(self.X[i1], self.X[i1]) * (alpha1_new-self.alpha[i1]) - self.Y[i2] * self.kernel(self.X[i2], self.X[i1]) * (alpha2_new-self.alpha[i2])+ self.b  # 根据课本(7.115)定义 \n",
    "            b2_new = -E2 - self.Y[i1] * self.kernel(self.X[i1], self.X[i2]) * (alpha1_new-self.alpha[i1]) - self.Y[i2] * self.kernel(self.X[i2], self.X[i2]) * (alpha2_new-self.alpha[i2])+ self.b  # 根据课本(7.116)定义 \n",
    "            if 0 < alpha1_new < self.C:    # 根据书本p148的约束条件\n",
    "                b_new = b1_new\n",
    "            elif 0 < alpha2_new < self.C:\n",
    "                b_new = b2_new\n",
    "            else:\n",
    "                # 选择中点\n",
    "                b_new = (b1_new + b2_new) / 2\n",
    "            # 更新参数\n",
    "            self.alpha[i1] = alpha1_new\n",
    "            self.alpha[i2] = alpha2_new\n",
    "            self.b = b_new\n",
    "            self.E[i1] = self._E(i1)   # 根据课本(7.117)定义\n",
    "            self.E[i2] = self._E(i2)     \n",
    "\n",
    "      \n",
    "    def predict(self, data):\n",
    "        '''\n",
    "        input:data(ndarray):单个样本\n",
    "        output:预测为正样本返回+1，负样本返回-1\n",
    "        '''\n",
    "        r = self.b\n",
    "        for i in range(self.m):\n",
    "            r += self.alpha[i] * self.Y[i] * self.kernel(data, self.X[i])\n",
    "        if r > 0:\n",
    "            return 1\n",
    "        else:\n",
    "            return -1"
   ]
  },
  {
   "cell_type": "markdown",
   "metadata": {},
   "source": [
    "### 步骤四：模型训练"
   ]
  },
  {
   "cell_type": "code",
   "execution_count": 104,
   "metadata": {},
   "outputs": [],
   "source": [
    "classifier = smo()\n",
    "classifier.fit(train_data, train_label)"
   ]
  },
  {
   "cell_type": "markdown",
   "metadata": {},
   "source": [
    "### 步骤五：模型测试"
   ]
  },
  {
   "cell_type": "code",
   "execution_count": 114,
   "metadata": {
    "scrolled": true
   },
   "outputs": [
    {
     "name": "stdout",
     "output_type": "stream",
     "text": [
      "Predict：-1 \t True：-1\n",
      "Predict：-1 \t True：-1\n",
      "Predict：-1 \t True：-1\n",
      "Predict：-1 \t True：-1\n",
      "Predict：-1 \t True：-1\n",
      "Predict：-1 \t True：-1\n",
      "Predict：1 \t True：1\n",
      "Predict：-1 \t True：-1\n",
      "Predict：-1 \t True：-1\n",
      "Predict：1 \t True：1\n",
      "Predict：-1 \t True：-1\n",
      "Predict：-1 \t True：1\n",
      "Predict：-1 \t True：-1\n",
      "Predict：-1 \t True：1\n",
      "Predict：-1 \t True：-1\n",
      "Predict：-1 \t True：-1\n",
      "Predict：-1 \t True：-1\n",
      "Predict：-1 \t True：-1\n",
      "Predict：1 \t True：1\n",
      "Predict：-1 \t True：1\n",
      "Predict：-1 \t True：1\n",
      "Predict：-1 \t True：1\n",
      "Predict：-1 \t True：-1\n",
      "Predict：-1 \t True：-1\n",
      "Predict：-1 \t True：-1\n",
      "Predict：-1 \t True：-1\n",
      "Predict：-1 \t True：-1\n",
      "Predict：-1 \t True：-1\n",
      "Predict：1 \t True：-1\n",
      "Predict：-1 \t True：1\n",
      "Predict：-1 \t True：-1\n",
      "Predict：1 \t True：1\n",
      "Predict：-1 \t True：-1\n",
      "Predict：1 \t True：1\n",
      "Predict：1 \t True：1\n",
      "Predict：1 \t True：1\n",
      "Predict：-1 \t True：-1\n",
      "Predict：1 \t True：1\n",
      "Predict：-1 \t True：1\n",
      "Predict：1 \t True：1\n",
      "Predict：1 \t True：1\n",
      "Predict：-1 \t True：-1\n",
      "Predict：-1 \t True：-1\n",
      "Predict：-1 \t True：-1\n",
      "Predict：-1 \t True：1\n",
      "Predict：-1 \t True：1\n",
      "Predict：1 \t True：1\n",
      "Predict：-1 \t True：-1\n",
      "Predict：-1 \t True：-1\n",
      "Predict：-1 \t True：-1\n",
      "Predict：1 \t True：1\n",
      "Predict：1 \t True：1\n",
      "Predict：1 \t True：1\n",
      "Predict：-1 \t True：1\n",
      "Predict：-1 \t True：-1\n",
      "Predict：-1 \t True：-1\n",
      "Predict：-1 \t True：-1\n",
      "Predict：1 \t True：1\n",
      "Predict：1 \t True：1\n",
      "Predict：-1 \t True：-1\n",
      "Predict：-1 \t True：-1\n",
      "Predict：1 \t True：1\n",
      "Predict：1 \t True：1\n",
      "Predict：1 \t True：1\n",
      "Predict：-1 \t True：1\n",
      "Predict：-1 \t True：-1\n",
      "Predict：-1 \t True：-1\n",
      "Predict：-1 \t True：-1\n",
      "Predict：-1 \t True：-1\n",
      "Predict：1 \t True：1\n",
      "Predict：-1 \t True：-1\n",
      "Predict：-1 \t True：-1\n",
      "Predict：-1 \t True：-1\n",
      "Predict：-1 \t True：-1\n",
      "Predict：-1 \t True：-1\n",
      "Predict：-1 \t True：-1\n",
      "Predict：-1 \t True：-1\n",
      "Predict：-1 \t True：-1\n",
      "Predict：-1 \t True：-1\n",
      "Predict：-1 \t True：-1\n",
      "Predict：-1 \t True：-1\n",
      "Predict：-1 \t True：-1\n",
      "Predict：-1 \t True：-1\n",
      "Predict：1 \t True：1\n",
      "Predict：1 \t True：-1\n",
      "Predict：-1 \t True：-1\n",
      "Predict：-1 \t True：1\n",
      "Predict：-1 \t True：-1\n",
      "Predict：-1 \t True：-1\n",
      "Predict：-1 \t True：-1\n",
      "Predict：-1 \t True：-1\n",
      "Predict：-1 \t True：-1\n",
      "Predict：-1 \t True：-1\n",
      "Predict：-1 \t True：1\n",
      "Predict：-1 \t True：-1\n",
      "Predict：-1 \t True：-1\n",
      "Predict：-1 \t True：-1\n",
      "Predict：-1 \t True：-1\n",
      "Predict：-1 \t True：-1\n",
      "Predict：-1 \t True：1\n"
     ]
    }
   ],
   "source": [
    "for i in range(len(test_data)):\n",
    "    y_pred = classifier.predict(test_data[i])\n",
    "    print('Predict：{} \\t True：{}'.format(y_pred, test_label[i]))"
   ]
  },
  {
   "cell_type": "markdown",
   "metadata": {},
   "source": [
    "## 实战二：SVM Model for Social Network Ads\n",
    "> 本实战利用`sklearn.svm.SVC`库进行SVM  \n",
    "\n",
    "- SVM、SVC、SVR 三者的关系：\n",
    "    - SVM = Support Vector Machine 是支持向量\n",
    "    - SVC = Support Vector Classification 就是支持向量机用于分类，\n",
    "    - SVR= Support Vector Regression 就是支持向量机用于回归分析\n",
    "- sklearn中的算法\n",
    "    - svm.LinearSVC Linear Support Vector Classification.\n",
    "    - svm.LinearSVR Linear Support Vector Regression.\n",
    "    - svm.NuSVC Nu-Support Vector Classification.\n",
    "    - svm.NuSVR Nu Support Vector Regression.\n",
    "    - svm.OneClassSVM Unsupervised Outlier Detection.\n",
    "    - svm.SVC C-Support Vector Classification.\n",
    "    - svm.SVR Epsilon-Support Vector Regression."
   ]
  },
  {
   "cell_type": "markdown",
   "metadata": {},
   "source": [
    "### 步骤1：导入相关库"
   ]
  },
  {
   "cell_type": "code",
   "execution_count": 117,
   "metadata": {},
   "outputs": [],
   "source": [
    "import numpy as np # 线性代数\n",
    "import matplotlib.pyplot as plt # 绘图\n",
    "import pandas as pd # 数据预处理"
   ]
  },
  {
   "cell_type": "markdown",
   "metadata": {},
   "source": [
    "### 步骤2：数据导入及预处理"
   ]
  },
  {
   "cell_type": "code",
   "execution_count": 119,
   "metadata": {},
   "outputs": [],
   "source": [
    "# 数据集获取\n",
    "dataset = pd.read_csv('./Social_Network_Ads.csv')\n",
    "X = dataset.iloc[:, [2, 3]].values\n",
    "X = X.astype(float)\n",
    "y = dataset.iloc[:, 4].values\n",
    "\n",
    "# 数据集划分\n",
    "from sklearn.model_selection import train_test_split\n",
    "X_train, X_test, y_train, y_test = train_test_split(X, y, test_size = 0.25, random_state = 0)\n",
    "\n",
    "# 数据特征化\n",
    "from sklearn.preprocessing import StandardScaler\n",
    "sc = StandardScaler()\n",
    "X_train = sc.fit_transform(X_train)\n",
    "X_test = sc.transform(X_test)"
   ]
  },
  {
   "cell_type": "markdown",
   "metadata": {},
   "source": [
    "### 步骤3：定义`线性`SVM模型"
   ]
  },
  {
   "cell_type": "code",
   "execution_count": 120,
   "metadata": {},
   "outputs": [
    {
     "data": {
      "text/plain": [
       "SVC(C=1.0, cache_size=200, class_weight=None, coef0=0.0,\n",
       "  decision_function_shape='ovr', degree=3, gamma='auto_deprecated',\n",
       "  kernel='linear', max_iter=-1, probability=False, random_state=0,\n",
       "  shrinking=True, tol=0.001, verbose=False)"
      ]
     },
     "execution_count": 120,
     "metadata": {},
     "output_type": "execute_result"
    }
   ],
   "source": [
    "# 使用线性核函数性将 SVM 对训练集进行拟合\n",
    "from sklearn.svm import SVC\n",
    "classifier = SVC(kernel='linear',random_state=0)\n",
    "classifier.fit(X_train, y_train)"
   ]
  },
  {
   "cell_type": "markdown",
   "metadata": {},
   "source": [
    "#### 步骤3.1：利用已训练`线性`SVM模型测试"
   ]
  },
  {
   "cell_type": "code",
   "execution_count": 122,
   "metadata": {},
   "outputs": [],
   "source": [
    "y_pred = classifier.predict(X_test)"
   ]
  },
  {
   "cell_type": "markdown",
   "metadata": {},
   "source": [
    "#### 步骤3.2：计算混淆矩阵"
   ]
  },
  {
   "cell_type": "code",
   "execution_count": 123,
   "metadata": {},
   "outputs": [
    {
     "name": "stdout",
     "output_type": "stream",
     "text": [
      "[[66  2]\n",
      " [ 8 24]]\n"
     ]
    }
   ],
   "source": [
    "from sklearn.metrics import confusion_matrix\n",
    "cm = confusion_matrix(y_test, y_pred)\n",
    "print(cm)"
   ]
  },
  {
   "cell_type": "markdown",
   "metadata": {},
   "source": [
    "#### 步骤3.3：训练结果可视化"
   ]
  },
  {
   "cell_type": "code",
   "execution_count": 169,
   "metadata": {},
   "outputs": [
    {
     "name": "stderr",
     "output_type": "stream",
     "text": [
      "*c* argument looks like a single numeric RGB or RGBA sequence, which should be avoided as value-mapping will have precedence in case its length matches with *x* & *y*.  Please use the *color* keyword-argument or provide a 2-D array with a single row if you intend to specify the same RGB or RGBA value for all points.\n",
      "*c* argument looks like a single numeric RGB or RGBA sequence, which should be avoided as value-mapping will have precedence in case its length matches with *x* & *y*.  Please use the *color* keyword-argument or provide a 2-D array with a single row if you intend to specify the same RGB or RGBA value for all points.\n"
     ]
    },
    {
     "data": {
      "image/png": "[encoded data removed]",
      "text/plain": [
       "<Figure size 432x288 with 1 Axes>"
      ]
     },
     "metadata": {},
     "output_type": "display_data"
    }
   ],
   "source": [
    "from matplotlib.colors import ListedColormap\n",
    "X_set, y_set = X_train, y_train\n",
    "\n",
    "# 坐标向量中生成坐标矩阵\n",
    "X1, X2 = np.meshgrid(np.arange(start = X_set[:, 0].min() - 1, stop = X_set[:, 0].max() + 1, step = 0.01), # x轴\n",
    "                     np.arange(start = X_set[:, 1].min() - 1, stop = X_set[:, 1].max() + 1, step = 0.01)) # y轴\n",
    "\n",
    "# 绘制等高线图\n",
    "plt.contourf(X1, X2, classifier.predict(np.array([X1.ravel(), X2.ravel()]).T).reshape(X1.shape), # 对坐标矩阵每个点进进行预测\n",
    "             alpha = 0.2, cmap = ListedColormap(('red', 'green')))\n",
    "plt.xlim(X1.min(), X1.max())\n",
    "plt.ylim(X2.min(), X2.max())\n",
    "\n",
    "for i, j in enumerate(np.unique(y_set)):  # np.unique去除重复数据\n",
    "    plt.scatter(X_set[y_set == j, 0], X_set[y_set == j, 1],\n",
    "                c = ListedColormap(('red', 'green'))(i), label = j)\n",
    "    \n",
    "plt.title('SVM (Training set)')\n",
    "plt.xlabel('Age')\n",
    "plt.ylabel('Estimated Salary')\n",
    "plt.legend()\n",
    "plt.show()"
   ]
  },
  {
   "cell_type": "markdown",
   "metadata": {},
   "source": [
    "#### 步骤3.4：测试结果可视化"
   ]
  },
  {
   "cell_type": "code",
   "execution_count": 171,
   "metadata": {},
   "outputs": [
    {
     "name": "stderr",
     "output_type": "stream",
     "text": [
      "*c* argument looks like a single numeric RGB or RGBA sequence, which should be avoided as value-mapping will have precedence in case its length matches with *x* & *y*.  Please use the *color* keyword-argument or provide a 2-D array with a single row if you intend to specify the same RGB or RGBA value for all points.\n",
      "*c* argument looks like a single numeric RGB or RGBA sequence, which should be avoided as value-mapping will have precedence in case its length matches with *x* & *y*.  Please use the *color* keyword-argument or provide a 2-D array with a single row if you intend to specify the same RGB or RGBA value for all points.\n"
     ]
    },
    {
     "data": {
      "image/png": "[encoded data removed]",
      "text/plain": [
       "<Figure size 432x288 with 1 Axes>"
      ]
     },
     "metadata": {},
     "output_type": "display_data"
    }
   ],
   "source": [
    "from matplotlib.colors import ListedColormap\n",
    "X_set, y_set = X_test, y_test\n",
    "X1, X2 = np.meshgrid(np.arange(start = X_set[:, 0].min() - 1, stop = X_set[:, 0].max() + 1, step = 0.01),\n",
    "                     np.arange(start = X_set[:, 1].min() - 1, stop = X_set[:, 1].max() + 1, step = 0.01))\n",
    "plt.contourf(X1, X2, classifier.predict(np.array([X1.ravel(), X2.ravel()]).T).reshape(X1.shape),\n",
    "             alpha = 0.2, cmap = ListedColormap(('red', 'green')))\n",
    "plt.xlim(X1.min(), X1.max())\n",
    "plt.ylim(X2.min(), X2.max())\n",
    "for i, j in enumerate(np.unique(y_set)):\n",
    "    plt.scatter(X_set[y_set == j, 0], X_set[y_set == j, 1],\n",
    "                c = ListedColormap(('red', 'green'))(i), label = j)\n",
    "plt.title('SVM (Test set)')\n",
    "plt.xlabel('Age')\n",
    "plt.ylabel('Estimated Salary')\n",
    "plt.legend()\n",
    "plt.show()"
   ]
  },
  {
   "cell_type": "markdown",
   "metadata": {},
   "source": [
    "- 正如我们所看到的，由于这个分类器的线性特性，模型做出了一些不正确的预测（根据混淆矩阵和图表，有 10 个错误的预测）。 \n",
    "- 现在让我们尝试使用不同的内核类型，看看它是否能做出更好的预测"
   ]
  },
  {
   "cell_type": "markdown",
   "metadata": {},
   "source": [
    "### 步骤4：定义`非线性`SVM模型\n",
    "- 核函数利用高斯核函数`RBF`"
   ]
  },
  {
   "cell_type": "code",
   "execution_count": 172,
   "metadata": {},
   "outputs": [
    {
     "data": {
      "text/plain": [
       "SVC(C=1.0, cache_size=200, class_weight=None, coef0=0.0,\n",
       "  decision_function_shape='ovr', degree=3, gamma='auto_deprecated',\n",
       "  kernel='rbf', max_iter=-1, probability=False, random_state=0,\n",
       "  shrinking=True, tol=0.001, verbose=False)"
      ]
     },
     "execution_count": 172,
     "metadata": {},
     "output_type": "execute_result"
    }
   ],
   "source": [
    "from sklearn.svm import SVC\n",
    "classifier = SVC(kernel='rbf',random_state=0)\n",
    "classifier.fit(X_train, y_train)"
   ]
  },
  {
   "cell_type": "markdown",
   "metadata": {},
   "source": [
    "#### 步骤4.1：利用已训练非`线性SVM`模型测试"
   ]
  },
  {
   "cell_type": "code",
   "execution_count": 173,
   "metadata": {},
   "outputs": [],
   "source": [
    "y_pred = classifier.predict(X_test)"
   ]
  },
  {
   "cell_type": "markdown",
   "metadata": {},
   "source": [
    "#### 步骤4.2：计算混淆矩阵"
   ]
  },
  {
   "cell_type": "code",
   "execution_count": 175,
   "metadata": {},
   "outputs": [
    {
     "name": "stdout",
     "output_type": "stream",
     "text": [
      "[[64  4]\n",
      " [ 3 29]]\n"
     ]
    }
   ],
   "source": [
    "from sklearn.metrics import confusion_matrix\n",
    "cm = confusion_matrix(y_test, y_pred)\n",
    "print(cm)"
   ]
  },
  {
   "cell_type": "markdown",
   "metadata": {},
   "source": [
    "#### 步骤4.3：训练结果可视化"
   ]
  },
  {
   "cell_type": "code",
   "execution_count": 177,
   "metadata": {},
   "outputs": [
    {
     "name": "stderr",
     "output_type": "stream",
     "text": [
      "*c* argument looks like a single numeric RGB or RGBA sequence, which should be avoided as value-mapping will have precedence in case its length matches with *x* & *y*.  Please use the *color* keyword-argument or provide a 2-D array with a single row if you intend to specify the same RGB or RGBA value for all points.\n",
      "*c* argument looks like a single numeric RGB or RGBA sequence, which should be avoided as value-mapping will have precedence in case its length matches with *x* & *y*.  Please use the *color* keyword-argument or provide a 2-D array with a single row if you intend to specify the same RGB or RGBA value for all points.\n"
     ]
    },
    {
     "data": {
      "image/png": "[encoded data removed]",
      "text/plain": [
       "<Figure size 432x288 with 1 Axes>"
      ]
     },
     "metadata": {},
     "output_type": "display_data"
    }
   ],
   "source": [
    "from matplotlib.colors import ListedColormap\n",
    "X_set, y_set = X_train, y_train\n",
    "X1, X2 = np.meshgrid(np.arange(start = X_set[:, 0].min() - 1, stop = X_set[:, 0].max() + 1, step = 0.01),\n",
    "                     np.arange(start = X_set[:, 1].min() - 1, stop = X_set[:, 1].max() + 1, step = 0.01))\n",
    "plt.contourf(X1, X2, classifier.predict(np.array([X1.ravel(), X2.ravel()]).T).reshape(X1.shape),\n",
    "             alpha = 0.2, cmap = ListedColormap(('red', 'green')))\n",
    "plt.xlim(X1.min(), X1.max())\n",
    "plt.ylim(X2.min(), X2.max())\n",
    "for i, j in enumerate(np.unique(y_set)):\n",
    "    plt.scatter(X_set[y_set == j, 0], X_set[y_set == j, 1],\n",
    "                c = ListedColormap(('red', 'green'))(i), label = j)\n",
    "plt.title('SVM (Training set)')\n",
    "plt.xlabel('Age')\n",
    "plt.ylabel('Estimated Salary')\n",
    "plt.legend()\n",
    "plt.show()"
   ]
  },
  {
   "cell_type": "markdown",
   "metadata": {},
   "source": [
    "#### 步骤4.4：测试结果可视化"
   ]
  },
  {
   "cell_type": "code",
   "execution_count": 179,
   "metadata": {},
   "outputs": [
    {
     "name": "stderr",
     "output_type": "stream",
     "text": [
      "*c* argument looks like a single numeric RGB or RGBA sequence, which should be avoided as value-mapping will have precedence in case its length matches with *x* & *y*.  Please use the *color* keyword-argument or provide a 2-D array with a single row if you intend to specify the same RGB or RGBA value for all points.\n",
      "*c* argument looks like a single numeric RGB or RGBA sequence, which should be avoided as value-mapping will have precedence in case its length matches with *x* & *y*.  Please use the *color* keyword-argument or provide a 2-D array with a single row if you intend to specify the same RGB or RGBA value for all points.\n"
     ]
    },
    {
     "data": {
      "image/png": "[encoded data removed]",
      "text/plain": [
       "<Figure size 432x288 with 1 Axes>"
      ]
     },
     "metadata": {},
     "output_type": "display_data"
    }
   ],
   "source": [
    "from matplotlib.colors import ListedColormap\n",
    "X_set, y_set = X_test, y_test\n",
    "X1, X2 = np.meshgrid(np.arange(start = X_set[:, 0].min() - 1, stop = X_set[:, 0].max() + 1, step = 0.01),\n",
    "                     np.arange(start = X_set[:, 1].min() - 1, stop = X_set[:, 1].max() + 1, step = 0.01))\n",
    "plt.contourf(X1, X2, classifier.predict(np.array([X1.ravel(), X2.ravel()]).T).reshape(X1.shape),\n",
    "             alpha = 0.2, cmap = ListedColormap(('red', 'green')))\n",
    "plt.xlim(X1.min(), X1.max())\n",
    "plt.ylim(X2.min(), X2.max())\n",
    "for i, j in enumerate(np.unique(y_set)):\n",
    "    plt.scatter(X_set[y_set == j, 0], X_set[y_set == j, 1],\n",
    "                c = ListedColormap(('red', 'green'))(i), label = j)\n",
    "plt.title('SVM (Test set)')\n",
    "plt.xlabel('Age')\n",
    "plt.ylabel('Estimated Salary')\n",
    "plt.legend()\n",
    "plt.show()"
   ]
  },
  {
   "cell_type": "markdown",
   "metadata": {},
   "source": [
    "- 正如我们从上图中观察到的，内核为 rbf 的分类器做出了更好的预测，只有 7 个错误的预测\n",
    "- 因此，与 Logistic 回归和 K-NN 相比，这仍然是一个更好的模型，可以对因变量进行有用的预测"
   ]
  },
  {
   "cell_type": "markdown",
   "metadata": {},
   "source": [
    "#### 实战参考\n",
    "- [SVM Model for Social Network Ads](https://www.kaggle.com/farhanmd29/svm-model-for-social-network-ads)\n",
    "- [序列最小优化算法（smo算法）](https://www.cnblogs.com/lsm-boke/p/12317200.html)"
   ]
  }
 ],
 "metadata": {
  "kernelspec": {
   "display_name": "Python [conda env:keras]",
   "language": "python",
   "name": "conda-env-keras-py"
  },
  "language_info": {
   "codemirror_mode": {
    "name": "ipython",
    "version": 3
   },
   "file_extension": ".py",
   "mimetype": "text/x-python",
   "name": "python",
   "nbconvert_exporter": "python",
   "pygments_lexer": "ipython3",
   "version": "3.6.2"
  }
 },
 "nbformat": 4,
 "nbformat_minor": 2
}
